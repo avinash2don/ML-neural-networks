{
 "cells": [
  {
   "cell_type": "code",
   "execution_count": 1,
   "metadata": {},
   "outputs": [
    {
     "name": "stderr",
     "output_type": "stream",
     "text": [
      "/Users/avinash2don/anaconda3/lib/python3.6/site-packages/h5py/__init__.py:34: FutureWarning: Conversion of the second argument of issubdtype from `float` to `np.floating` is deprecated. In future, it will be treated as `np.float64 == np.dtype(float).type`.\n",
      "  from ._conv import register_converters as _register_converters\n"
     ]
    }
   ],
   "source": [
    "import numpy as np\n",
    "import tensorflow as tf\n",
    "import pandas as pd\n",
    "import matplotlib.pyplot as plt\n",
    "from sklearn.preprocessing import StandardScaler\n",
    "%matplotlib inline"
   ]
  },
  {
   "cell_type": "code",
   "execution_count": 2,
   "metadata": {
    "collapsed": true
   },
   "outputs": [],
   "source": [
    "BTC = pd.read_csv('btc.csv')"
   ]
  },
  {
   "cell_type": "code",
   "execution_count": 3,
   "metadata": {},
   "outputs": [
    {
     "data": {
      "text/html": [
       "<div>\n",
       "<style>\n",
       "    .dataframe thead tr:only-child th {\n",
       "        text-align: right;\n",
       "    }\n",
       "\n",
       "    .dataframe thead th {\n",
       "        text-align: left;\n",
       "    }\n",
       "\n",
       "    .dataframe tbody tr th {\n",
       "        vertical-align: top;\n",
       "    }\n",
       "</style>\n",
       "<table border=\"1\" class=\"dataframe\">\n",
       "  <thead>\n",
       "    <tr style=\"text-align: right;\">\n",
       "      <th></th>\n",
       "      <th>date</th>\n",
       "      <th>txVolume(USD)</th>\n",
       "      <th>txCount</th>\n",
       "      <th>marketcap(USD)</th>\n",
       "      <th>price(USD)</th>\n",
       "      <th>exchangeVolume(USD)</th>\n",
       "      <th>generatedCoins</th>\n",
       "      <th>fees</th>\n",
       "    </tr>\n",
       "  </thead>\n",
       "  <tbody>\n",
       "    <tr>\n",
       "      <th>0</th>\n",
       "      <td>5/1/13</td>\n",
       "      <td>1.086597e+08</td>\n",
       "      <td>52443</td>\n",
       "      <td>1.542820e+09</td>\n",
       "      <td>139.00</td>\n",
       "      <td>0</td>\n",
       "      <td>3575.0</td>\n",
       "      <td>36.806000</td>\n",
       "    </tr>\n",
       "    <tr>\n",
       "      <th>1</th>\n",
       "      <td>5/2/13</td>\n",
       "      <td>9.695852e+07</td>\n",
       "      <td>55169</td>\n",
       "      <td>1.292190e+09</td>\n",
       "      <td>116.38</td>\n",
       "      <td>0</td>\n",
       "      <td>3425.0</td>\n",
       "      <td>54.407916</td>\n",
       "    </tr>\n",
       "    <tr>\n",
       "      <th>2</th>\n",
       "      <td>5/3/13</td>\n",
       "      <td>8.445970e+07</td>\n",
       "      <td>55636</td>\n",
       "      <td>1.180070e+09</td>\n",
       "      <td>106.25</td>\n",
       "      <td>0</td>\n",
       "      <td>3650.0</td>\n",
       "      <td>48.526772</td>\n",
       "    </tr>\n",
       "    <tr>\n",
       "      <th>3</th>\n",
       "      <td>5/4/13</td>\n",
       "      <td>4.154584e+07</td>\n",
       "      <td>48595</td>\n",
       "      <td>1.089890e+09</td>\n",
       "      <td>98.10</td>\n",
       "      <td>0</td>\n",
       "      <td>3900.0</td>\n",
       "      <td>43.419694</td>\n",
       "    </tr>\n",
       "    <tr>\n",
       "      <th>4</th>\n",
       "      <td>5/5/13</td>\n",
       "      <td>5.620593e+07</td>\n",
       "      <td>49907</td>\n",
       "      <td>1.254760e+09</td>\n",
       "      <td>112.90</td>\n",
       "      <td>0</td>\n",
       "      <td>3875.0</td>\n",
       "      <td>38.408956</td>\n",
       "    </tr>\n",
       "  </tbody>\n",
       "</table>\n",
       "</div>"
      ],
      "text/plain": [
       "     date  txVolume(USD)  txCount  marketcap(USD)  price(USD)  \\\n",
       "0  5/1/13   1.086597e+08    52443    1.542820e+09      139.00   \n",
       "1  5/2/13   9.695852e+07    55169    1.292190e+09      116.38   \n",
       "2  5/3/13   8.445970e+07    55636    1.180070e+09      106.25   \n",
       "3  5/4/13   4.154584e+07    48595    1.089890e+09       98.10   \n",
       "4  5/5/13   5.620593e+07    49907    1.254760e+09      112.90   \n",
       "\n",
       "   exchangeVolume(USD)  generatedCoins       fees  \n",
       "0                    0          3575.0  36.806000  \n",
       "1                    0          3425.0  54.407916  \n",
       "2                    0          3650.0  48.526772  \n",
       "3                    0          3900.0  43.419694  \n",
       "4                    0          3875.0  38.408956  "
      ]
     },
     "execution_count": 3,
     "metadata": {},
     "output_type": "execute_result"
    }
   ],
   "source": [
    "BTC.head()"
   ]
  },
  {
   "cell_type": "code",
   "execution_count": 4,
   "metadata": {},
   "outputs": [
    {
     "data": {
      "text/plain": [
       "date                    object\n",
       "txVolume(USD)          float64\n",
       "txCount                  int64\n",
       "marketcap(USD)         float64\n",
       "price(USD)             float64\n",
       "exchangeVolume(USD)      int64\n",
       "generatedCoins         float64\n",
       "fees                   float64\n",
       "dtype: object"
      ]
     },
     "execution_count": 4,
     "metadata": {},
     "output_type": "execute_result"
    }
   ],
   "source": [
    "BTC.dtypes"
   ]
  },
  {
   "cell_type": "code",
   "execution_count": 5,
   "metadata": {
    "collapsed": true
   },
   "outputs": [],
   "source": [
    "BTC['date'] = pd.to_datetime(BTC['date'])"
   ]
  },
  {
   "cell_type": "code",
   "execution_count": 6,
   "metadata": {},
   "outputs": [
    {
     "data": {
      "text/plain": [
       "date                   datetime64[ns]\n",
       "txVolume(USD)                 float64\n",
       "txCount                         int64\n",
       "marketcap(USD)                float64\n",
       "price(USD)                    float64\n",
       "exchangeVolume(USD)             int64\n",
       "generatedCoins                float64\n",
       "fees                          float64\n",
       "dtype: object"
      ]
     },
     "execution_count": 6,
     "metadata": {},
     "output_type": "execute_result"
    }
   ],
   "source": [
    "BTC.dtypes"
   ]
  },
  {
   "cell_type": "code",
   "execution_count": 7,
   "metadata": {},
   "outputs": [
    {
     "data": {
      "text/plain": [
       "(1820, 8)"
      ]
     },
     "execution_count": 7,
     "metadata": {},
     "output_type": "execute_result"
    }
   ],
   "source": [
    "BTC.shape"
   ]
  },
  {
   "cell_type": "code",
   "execution_count": 8,
   "metadata": {},
   "outputs": [
    {
     "name": "stdout",
     "output_type": "stream",
     "text": [
      "Total number of days in the dataset: 1820\n"
     ]
    }
   ],
   "source": [
    "data = BTC['price(USD)'].values\n",
    "print('Total number of days in the dataset: {}'.format(len(data)))"
   ]
  },
  {
   "cell_type": "code",
   "execution_count": 9,
   "metadata": {
    "collapsed": true
   },
   "outputs": [],
   "source": [
    "data = data.reshape(-1, 1)"
   ]
  },
  {
   "cell_type": "code",
   "execution_count": 10,
   "metadata": {},
   "outputs": [
    {
     "data": {
      "image/png": "[encoded data removed]",
      "text/plain": [
       "<matplotlib.figure.Figure at 0x113ce57b8>"
      ]
     },
     "metadata": {},
     "output_type": "display_data"
    }
   ],
   "source": [
    "plt.figure(figsize=(20,7), frameon=False, facecolor='brown', edgecolor='blue')\n",
    "plt.title('BTC from May 1st 2013 to April 24th 2018')\n",
    "plt.xlabel('Days')\n",
    "plt.ylabel('BTC price USD')\n",
    "plt.plot(data, label='BTC Price')\n",
    "plt.legend()\n",
    "plt.show()"
   ]
  },
  {
   "cell_type": "code",
   "execution_count": 11,
   "metadata": {
    "collapsed": true
   },
   "outputs": [],
   "source": [
    "def window_data(data, window_size):\n",
    "    X = []\n",
    "    y = []\n",
    "    \n",
    "    i = 0\n",
    "    while (i + window_size) <= len(data) - 1:\n",
    "        X.append(data[i:i+window_size])\n",
    "        y.append(data[i+window_size])\n",
    "        \n",
    "        i += 1\n",
    "    assert len(X) ==  len(y)\n",
    "    return X, y"
   ]
  },
  {
   "cell_type": "code",
   "execution_count": 12,
   "metadata": {
    "collapsed": true
   },
   "outputs": [],
   "source": [
    "X, y = window_data(data, 14)"
   ]
  },
  {
   "cell_type": "code",
   "execution_count": 13,
   "metadata": {},
   "outputs": [
    {
     "name": "stdout",
     "output_type": "stream",
     "text": [
      "X_train size: (1736, 14, 1)\n",
      "y_train size: (1736, 1)\n",
      "X_val size: (56, 14, 1)\n",
      "y_val size: (56, 1)\n",
      "X_test size: (14, 14, 1)\n",
      "y_test size: (14, 1)\n"
     ]
    }
   ],
   "source": [
    "X_train  = np.array(X[:1736])\n",
    "y_train = np.array(y[:1736])\n",
    "\n",
    "X_val = np.array(X[1736:1792])\n",
    "y_val = np.array(y[1736:1792])\n",
    "\n",
    "\n",
    "X_test = np.array(X[1792:])\n",
    "y_test = np.array(y[1792:])\n",
    "\n",
    "print(\"X_train size: {}\".format(X_train.shape))\n",
    "print(\"y_train size: {}\".format(y_train.shape))\n",
    "\n",
    "print(\"X_val size: {}\".format(X_val.shape))\n",
    "print(\"y_val size: {}\".format(y_val.shape))\n",
    "\n",
    "print(\"X_test size: {}\".format(X_test.shape))\n",
    "print(\"y_test size: {}\".format(y_test.shape))"
   ]
  },
  {
   "cell_type": "code",
   "execution_count": 14,
   "metadata": {},
   "outputs": [
    {
     "name": "stdout",
     "output_type": "stream",
     "text": [
      "[[[7836.83]\n",
      "  [7979.07]\n",
      "  [7171.45]\n",
      "  [6892.48]\n",
      "  [7003.06]\n",
      "  [6844.86]\n",
      "  [7102.26]\n",
      "  [7456.41]\n",
      "  [6848.65]\n",
      "  [6815.96]\n",
      "  [6630.51]\n",
      "  [6919.98]\n",
      "  [7044.32]\n",
      "  [6795.44]]\n",
      "\n",
      " [[7979.07]\n",
      "  [7171.45]\n",
      "  [6892.48]\n",
      "  [7003.06]\n",
      "  [6844.86]\n",
      "  [7102.26]\n",
      "  [7456.41]\n",
      "  [6848.65]\n",
      "  [6815.96]\n",
      "  [6630.51]\n",
      "  [6919.98]\n",
      "  [7044.32]\n",
      "  [6795.44]\n",
      "  [6843.47]]\n",
      "\n",
      " [[7171.45]\n",
      "  [6892.48]\n",
      "  [7003.06]\n",
      "  [6844.86]\n",
      "  [7102.26]\n",
      "  [7456.41]\n",
      "  [6848.65]\n",
      "  [6815.96]\n",
      "  [6630.51]\n",
      "  [6919.98]\n",
      "  [7044.32]\n",
      "  [6795.44]\n",
      "  [6843.47]\n",
      "  [6955.38]]\n",
      "\n",
      " [[6892.48]\n",
      "  [7003.06]\n",
      "  [6844.86]\n",
      "  [7102.26]\n",
      "  [7456.41]\n",
      "  [6848.65]\n",
      "  [6815.96]\n",
      "  [6630.51]\n",
      "  [6919.98]\n",
      "  [7044.32]\n",
      "  [6795.44]\n",
      "  [6843.47]\n",
      "  [6955.38]\n",
      "  [7901.09]]\n",
      "\n",
      " [[7003.06]\n",
      "  [6844.86]\n",
      "  [7102.26]\n",
      "  [7456.41]\n",
      "  [6848.65]\n",
      "  [6815.96]\n",
      "  [6630.51]\n",
      "  [6919.98]\n",
      "  [7044.32]\n",
      "  [6795.44]\n",
      "  [6843.47]\n",
      "  [6955.38]\n",
      "  [7901.09]\n",
      "  [7874.67]]\n",
      "\n",
      " [[6844.86]\n",
      "  [7102.26]\n",
      "  [7456.41]\n",
      "  [6848.65]\n",
      "  [6815.96]\n",
      "  [6630.51]\n",
      "  [6919.98]\n",
      "  [7044.32]\n",
      "  [6795.44]\n",
      "  [6843.47]\n",
      "  [6955.38]\n",
      "  [7901.09]\n",
      "  [7874.67]\n",
      "  [7999.33]]\n",
      "\n",
      " [[7102.26]\n",
      "  [7456.41]\n",
      "  [6848.65]\n",
      "  [6815.96]\n",
      "  [6630.51]\n",
      "  [6919.98]\n",
      "  [7044.32]\n",
      "  [6795.44]\n",
      "  [6843.47]\n",
      "  [6955.38]\n",
      "  [7901.09]\n",
      "  [7874.67]\n",
      "  [7999.33]\n",
      "  [8337.57]]\n",
      "\n",
      " [[7456.41]\n",
      "  [6848.65]\n",
      "  [6815.96]\n",
      "  [6630.51]\n",
      "  [6919.98]\n",
      "  [7044.32]\n",
      "  [6795.44]\n",
      "  [6843.47]\n",
      "  [6955.38]\n",
      "  [7901.09]\n",
      "  [7874.67]\n",
      "  [7999.33]\n",
      "  [8337.57]\n",
      "  [8071.66]]\n",
      "\n",
      " [[6848.65]\n",
      "  [6815.96]\n",
      "  [6630.51]\n",
      "  [6919.98]\n",
      "  [7044.32]\n",
      "  [6795.44]\n",
      "  [6843.47]\n",
      "  [6955.38]\n",
      "  [7901.09]\n",
      "  [7874.67]\n",
      "  [7999.33]\n",
      "  [8337.57]\n",
      "  [8071.66]\n",
      "  [7944.43]]\n",
      "\n",
      " [[6815.96]\n",
      "  [6630.51]\n",
      "  [6919.98]\n",
      "  [7044.32]\n",
      "  [6795.44]\n",
      "  [6843.47]\n",
      "  [6955.38]\n",
      "  [7901.09]\n",
      "  [7874.67]\n",
      "  [7999.33]\n",
      "  [8337.57]\n",
      "  [8071.66]\n",
      "  [7944.43]\n",
      "  [8159.27]]\n",
      "\n",
      " [[6630.51]\n",
      "  [6919.98]\n",
      "  [7044.32]\n",
      "  [6795.44]\n",
      "  [6843.47]\n",
      "  [6955.38]\n",
      "  [7901.09]\n",
      "  [7874.67]\n",
      "  [7999.33]\n",
      "  [8337.57]\n",
      "  [8071.66]\n",
      "  [7944.43]\n",
      "  [8159.27]\n",
      "  [8286.88]]\n",
      "\n",
      " [[6919.98]\n",
      "  [7044.32]\n",
      "  [6795.44]\n",
      "  [6843.47]\n",
      "  [6955.38]\n",
      "  [7901.09]\n",
      "  [7874.67]\n",
      "  [7999.33]\n",
      "  [8337.57]\n",
      "  [8071.66]\n",
      "  [7944.43]\n",
      "  [8159.27]\n",
      "  [8286.88]\n",
      "  [8848.79]]\n",
      "\n",
      " [[7044.32]\n",
      "  [6795.44]\n",
      "  [6843.47]\n",
      "  [6955.38]\n",
      "  [7901.09]\n",
      "  [7874.67]\n",
      "  [7999.33]\n",
      "  [8337.57]\n",
      "  [8071.66]\n",
      "  [7944.43]\n",
      "  [8159.27]\n",
      "  [8286.88]\n",
      "  [8848.79]\n",
      "  [8925.06]]\n",
      "\n",
      " [[6795.44]\n",
      "  [6843.47]\n",
      "  [6955.38]\n",
      "  [7901.09]\n",
      "  [7874.67]\n",
      "  [7999.33]\n",
      "  [8337.57]\n",
      "  [8071.66]\n",
      "  [7944.43]\n",
      "  [8159.27]\n",
      "  [8286.88]\n",
      "  [8848.79]\n",
      "  [8925.06]\n",
      "  [8794.39]]]\n",
      "[[6843.47]\n",
      " [6955.38]\n",
      " [7901.09]\n",
      " [7874.67]\n",
      " [7999.33]\n",
      " [8337.57]\n",
      " [8071.66]\n",
      " [7944.43]\n",
      " [8159.27]\n",
      " [8286.88]\n",
      " [8848.79]\n",
      " [8925.06]\n",
      " [8794.39]\n",
      " [8934.34]]\n"
     ]
    }
   ],
   "source": [
    "print(X_test)\n",
    "print(y_test)"
   ]
  },
  {
   "cell_type": "code",
   "execution_count": 15,
   "metadata": {
    "collapsed": true
   },
   "outputs": [],
   "source": [
    "epochs = 1000\n",
    "batch_size = 14"
   ]
  },
  {
   "cell_type": "code",
   "execution_count": 16,
   "metadata": {
    "collapsed": true
   },
   "outputs": [],
   "source": [
    "def LSTM_cell(hidden_layer_size, batch_size,number_of_layers, dropout=True, dropout_rate=0.8):\n",
    "    \n",
    "    layer = tf.contrib.rnn.BasicLSTMCell(hidden_layer_size)\n",
    "    \n",
    "    if dropout:\n",
    "        layer = tf.contrib.rnn.DropoutWrapper(layer, output_keep_prob=dropout_rate)\n",
    "        \n",
    "    cell = tf.contrib.rnn.MultiRNNCell([layer]*number_of_layers)\n",
    "    \n",
    "    init_state = cell.zero_state(batch_size, tf.float32)\n",
    "    \n",
    "    return cell, init_state"
   ]
  },
  {
   "cell_type": "code",
   "execution_count": 17,
   "metadata": {
    "collapsed": true
   },
   "outputs": [],
   "source": [
    "def output_layer(lstm_output, in_size, out_size):\n",
    "    \n",
    "    x = lstm_output[:, -1, :]\n",
    "    print(x)\n",
    "    weights = tf.Variable(tf.truncated_normal([in_size, out_size], stddev=0.05), name='output_layer_weights')\n",
    "    bias = tf.Variable(tf.zeros([out_size]), name='output_layer_bias')\n",
    "    \n",
    "    output = tf.matmul(x, weights) + bias\n",
    "    return output"
   ]
  },
  {
   "cell_type": "code",
   "execution_count": 18,
   "metadata": {
    "collapsed": true
   },
   "outputs": [],
   "source": [
    "def opt_loss(logits, targets, learning_rate, grad_clip_margin):\n",
    "    \n",
    "    losses = []\n",
    "    for i in range(targets.get_shape()[0]):\n",
    "        losses.append([(tf.pow(logits[i] - targets[i], 2))])\n",
    "        \n",
    "    loss = tf.reduce_sum(losses)/(2*batch_size)\n",
    "    \n",
    "    #Cliping the gradient loss\n",
    "    gradients = tf.gradients(loss, tf.trainable_variables())\n",
    "    clipper_, _ = tf.clip_by_global_norm(gradients, grad_clip_margin)\n",
    "    optimizer = tf.train.AdamOptimizer(learning_rate)\n",
    "    train_optimizer = optimizer.apply_gradients(zip(gradients, tf.trainable_variables()))\n",
    "    return loss, train_optimizer"
   ]
  },
  {
   "cell_type": "code",
   "execution_count": 19,
   "metadata": {
    "collapsed": true
   },
   "outputs": [],
   "source": [
    "class BTCPredictionRNN(object):\n",
    "    \n",
    "    def __init__(self, learning_rate=0.001, batch_size=7, hidden_layer_size=512, number_of_layers=1, \n",
    "                 dropout=True, dropout_rate=0.8, number_of_classes=1, gradient_clip_margin=4, window_size=7):\n",
    "    \n",
    "        self.inputs = tf.placeholder(tf.float32, [batch_size, window_size, 1], name='input_data')\n",
    "        self.targets = tf.placeholder(tf.float32, [batch_size, 1], name='targets')\n",
    "\n",
    "        cell, init_state = LSTM_cell(hidden_layer_size, batch_size, number_of_layers, dropout, dropout_rate)\n",
    "\n",
    "        outputs, states = tf.nn.dynamic_rnn(cell, self.inputs, initial_state=init_state)\n",
    "\n",
    "        self.logits = output_layer(outputs, hidden_layer_size, number_of_classes)\n",
    "\n",
    "        self.loss, self.opt = opt_loss(self.logits, self.targets, learning_rate, gradient_clip_margin)"
   ]
  },
  {
   "cell_type": "code",
   "execution_count": 20,
   "metadata": {},
   "outputs": [
    {
     "name": "stdout",
     "output_type": "stream",
     "text": [
      "Tensor(\"strided_slice:0\", shape=(7, 512), dtype=float32)\n"
     ]
    }
   ],
   "source": [
    "tf.reset_default_graph()\n",
    "model = BTCPredictionRNN()"
   ]
  },
  {
   "cell_type": "code",
   "execution_count": 21,
   "metadata": {
    "collapsed": true
   },
   "outputs": [],
   "source": [
    "session =  tf.Session()"
   ]
  },
  {
   "cell_type": "code",
   "execution_count": 22,
   "metadata": {
    "collapsed": true
   },
   "outputs": [],
   "source": [
    "session.run(tf.global_variables_initializer())"
   ]
  },
  {
   "cell_type": "code",
   "execution_count": null,
   "metadata": {
    "collapsed": true
   },
   "outputs": [],
   "source": [
    "for i in range(epochs):\n",
    "    traind_scores = []\n",
    "    ii = 0\n",
    "    epoch_loss = []\n",
    "    while(ii + batch_size) <= len(X_train):\n",
    "        X_batch = X_train[ii:ii+batch_size]\n",
    "        y_batch = y_train[ii:ii+batch_size]\n",
    "        print(X_batch)\n",
    "        print(y_batch)\n",
    "        print(X_batch.shape)\n",
    "        print(y_batch.shape)\n",
    "        o, c, _ = session.run([model.logits, model.loss, model.opt], feed_dict={model.inputs:X_batch, model.targets:y_batch})\n",
    "        \n",
    "        epoch_loss.append(c)\n",
    "        traind_scores.append(o)\n",
    "        ii += batch_size\n",
    "    if (i % 30) == 0:\n",
    "        print('Epoch {}/{}'.format(i, epochs), ' Current loss: {}'.format(np.mean(epoch_loss)))"
   ]
  },
  {
   "cell_type": "code",
   "execution_count": null,
   "metadata": {},
   "outputs": [],
   "source": [
    "sup =[]\n",
    "for i in range(len(traind_scores)):\n",
    "    for j in range(len(traind_scores[i])):\n",
    "        sup.append(traind_scores[i][j])"
   ]
  },
  {
   "cell_type": "code",
   "execution_count": null,
   "metadata": {},
   "outputs": [],
   "source": [
    "tests = []\n",
    "i = 0\n",
    "while i+batch_size <= len(X_test):\n",
    "    \n",
    "    o = session.run([model.logits], feed_dict={model.inputs:X_test[i:i+batch_size]})\n",
    "    i += batch_size\n",
    "    tests.append(o)"
   ]
  },
  {
   "cell_type": "code",
   "execution_count": null,
   "metadata": {
    "collapsed": true
   },
   "outputs": [],
   "source": [
    "tests_new = []\n",
    "for i in range(len(tests)):\n",
    "    for j in range(len(tests[i][0])):\n",
    "        tests_new.append(tests[i][0][j])"
   ]
  },
  {
   "cell_type": "code",
   "execution_count": null,
   "metadata": {},
   "outputs": [],
   "source": [
    "test_results = []\n",
    "for i in range(1813):\n",
    "    if i >= 1751:\n",
    "        test_results.append(tests_new[i-1751])\n",
    "    else:\n",
    "        test_results.append(None)"
   ]
  },
  {
   "cell_type": "code",
   "execution_count": null,
   "metadata": {},
   "outputs": [],
   "source": [
    "plt.figure(figsize=(16, 7))\n",
    "plt.plot(scaled_dataset, label='Original data')\n",
    "plt.plot(sup, label='Training data')\n",
    "plt.plot(test_results, label='Testing data')\n",
    "plt.legend()\n",
    "plt.show()"
   ]
  },
  {
   "cell_type": "code",
   "execution_count": null,
   "metadata": {
    "collapsed": true
   },
   "outputs": [],
   "source": []
  }
 ],
 "metadata": {
  "kernelspec": {
   "display_name": "Python 3",
   "language": "python",
   "name": "python3"
  },
  "language_info": {
   "codemirror_mode": {
    "name": "ipython",
    "version": 3
   },
   "file_extension": ".py",
   "mimetype": "text/x-python",
   "name": "python",
   "nbconvert_exporter": "python",
   "pygments_lexer": "ipython3",
   "version": "3.6.5"
  }
 },
 "nbformat": 4,
 "nbformat_minor": 2
}
